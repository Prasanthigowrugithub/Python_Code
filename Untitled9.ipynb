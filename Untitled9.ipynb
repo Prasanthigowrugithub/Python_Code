{
 "cells": [
  {
   "cell_type": "code",
   "execution_count": 2,
   "id": "c962b917",
   "metadata": {},
   "outputs": [
    {
     "name": "stdout",
     "output_type": "stream",
     "text": [
      "Valid Trianle\n"
     ]
    }
   ],
   "source": [
    "#Your task is to complete the validate_triangle and validate_rectangle functions for the classes.Hint for validating is given in the comments of the code.\n",
    "\n",
    "def checkValidity(a, b, c):\n",
    "     \n",
    "\n",
    "    if (a + b <= c) or (a + c <= b) or (b + c <= a) :\n",
    "        return False\n",
    "    else:\n",
    "        return True       \n",
    " \n",
    "a = 3\n",
    "b = 4\n",
    "c = 5\n",
    "if checkValidity(a, b, c):\n",
    "    print(\"Valid Trianle\")\n",
    "else:\n",
    "    print(\"Valid Rectangle\")"
   ]
  },
  {
   "cell_type": "code",
   "execution_count": 5,
   "id": "605ab6e9",
   "metadata": {},
   "outputs": [
    {
     "name": "stdout",
     "output_type": "stream",
     "text": [
      "Valid Rectangle\n"
     ]
    }
   ],
   "source": [
    "def checkValidity(a, b, c, d):\n",
    "     \n",
    "\n",
    "    if (a + b + c <= d) or (a + b + d <= c) or (a + c + d <= b) or (b + c + d <= a) :\n",
    "        return False\n",
    "    else:\n",
    "        return True       \n",
    " \n",
    "a = 2\n",
    "b = 4\n",
    "c = 2\n",
    "d = 4\n",
    "if checkValidity(a, b, c, d):\n",
    "    print(\"Valid Rectangle\")\n",
    "else:\n",
    "    print(\"Valid Trianle\")"
   ]
  },
  {
   "cell_type": "code",
   "execution_count": null,
   "id": "7bff415f",
   "metadata": {},
   "outputs": [],
   "source": []
  }
 ],
 "metadata": {
  "kernelspec": {
   "display_name": "Python 3 (ipykernel)",
   "language": "python",
   "name": "python3"
  },
  "language_info": {
   "codemirror_mode": {
    "name": "ipython",
    "version": 3
   },
   "file_extension": ".py",
   "mimetype": "text/x-python",
   "name": "python",
   "nbconvert_exporter": "python",
   "pygments_lexer": "ipython3",
   "version": "3.10.6"
  }
 },
 "nbformat": 4,
 "nbformat_minor": 5
}
